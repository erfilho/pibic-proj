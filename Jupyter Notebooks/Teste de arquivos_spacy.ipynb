{
 "cells": [
  {
   "cell_type": "markdown",
   "metadata": {},
   "source": [
    "### Objetivo: Abrir o arquivo e tokenizar utilizando o SpaCY"
   ]
  },
  {
   "cell_type": "markdown",
   "metadata": {},
   "source": [
    "#### Importando as bibliotecas necessárias"
   ]
  },
  {
   "cell_type": "code",
   "execution_count": 1,
   "metadata": {},
   "outputs": [],
   "source": [
    "import spacy\n",
    "\n",
    "nlp = spacy.load(\"pt_core_news_sm\")"
   ]
  },
  {
   "cell_type": "markdown",
   "metadata": {},
   "source": [
    "#### Declarando constantes"
   ]
  },
  {
   "cell_type": "code",
   "execution_count": 2,
   "metadata": {},
   "outputs": [],
   "source": [
    "SOURCE_URL = \"../Python Codes/stuff/\"\n",
    "# To acess examples of C source codes use:\n",
    "# SOURCE_URL+\"c_tests/name_of_archive.c\""
   ]
  },
  {
   "cell_type": "markdown",
   "metadata": {},
   "source": [
    "#### Abrindo o arquivo"
   ]
  },
  {
   "cell_type": "code",
   "execution_count": 3,
   "metadata": {},
   "outputs": [],
   "source": [
    "arquivo = open(SOURCE_URL+\"c_tests/helloworld.c\")\n",
    "# Deixando o arquivo utilizável em modo de string\n",
    "archive = \"\"\n",
    "for line in arquivo:\n",
    "    archive += line"
   ]
  },
  {
   "cell_type": "markdown",
   "metadata": {},
   "source": [
    "#### Corpo do código"
   ]
  },
  {
   "cell_type": "code",
   "execution_count": 6,
   "metadata": {},
   "outputs": [
    {
     "name": "stdout",
     "output_type": "stream",
     "text": [
      "['#', 'include', '<', 'stdio.h', '>', '\\n\\n', 'int', 'main', '(', ')', '{', '\\n    ', 'printf(\"Hello', 'world', '!', '\"', ')', ';', '\\n    ', 'return', '0', ';', '\\n', '}']\n"
     ]
    }
   ],
   "source": [
    "doc = nlp(archive)\n",
    "\n",
    "tokens = []\n",
    "for tok in doc:\n",
    "    tokens.append(tok.text)\n",
    "\n",
    "print(tokens)"
   ]
  },
  {
   "cell_type": "markdown",
   "metadata": {},
   "source": [
    "#### Fechando o arquivo"
   ]
  },
  {
   "cell_type": "code",
   "execution_count": 4,
   "metadata": {},
   "outputs": [],
   "source": [
    "arquivo.close()"
   ]
  }
 ],
 "metadata": {
  "interpreter": {
   "hash": "a664ddb530cc068fa410724cd14cd19fcbd1cd7c18d1881ba724c80a45b9ddd0"
  },
  "kernelspec": {
   "display_name": "Python 3.10.2 64-bit",
   "language": "python",
   "name": "python3"
  },
  "language_info": {
   "codemirror_mode": {
    "name": "ipython",
    "version": 3
   },
   "file_extension": ".py",
   "mimetype": "text/x-python",
   "name": "python",
   "nbconvert_exporter": "python",
   "pygments_lexer": "ipython3",
   "version": "3.10.2"
  },
  "orig_nbformat": 4
 },
 "nbformat": 4,
 "nbformat_minor": 2
}
