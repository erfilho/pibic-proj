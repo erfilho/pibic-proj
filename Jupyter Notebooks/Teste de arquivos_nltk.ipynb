{
 "cells": [
  {
   "cell_type": "markdown",
   "metadata": {},
   "source": [
    "## Objetivo: Abrir arquivos de código fonte com o python e transformar em tokens"
   ]
  },
  {
   "cell_type": "code",
   "execution_count": 1,
   "metadata": {},
   "outputs": [],
   "source": [
    "import nltk\n",
    "from nltk import word_tokenize"
   ]
  },
  {
   "cell_type": "markdown",
   "metadata": {},
   "source": [
    "#### Declaração de constantes"
   ]
  },
  {
   "cell_type": "code",
   "execution_count": 2,
   "metadata": {},
   "outputs": [],
   "source": [
    "SOURCE_URL = \"../Python Codes/stuff\""
   ]
  },
  {
   "cell_type": "markdown",
   "metadata": {},
   "source": [
    "#### Abrindo o arquivo"
   ]
  },
  {
   "cell_type": "code",
   "execution_count": 3,
   "metadata": {},
   "outputs": [],
   "source": [
    "arquivo = open(SOURCE_URL+\"/c_tests/helloworld.c\", 'r')\n",
    "# Transformando o arquivo em string\n",
    "archive = \"\"\n",
    "\n",
    "for line in arquivo:\n",
    "    archive += line"
   ]
  },
  {
   "cell_type": "markdown",
   "metadata": {},
   "source": [
    "#### Utilizando o nltk para tokenizar"
   ]
  },
  {
   "cell_type": "code",
   "execution_count": 4,
   "metadata": {},
   "outputs": [
    {
     "name": "stdout",
     "output_type": "stream",
     "text": [
      "['#', 'include', '<', 'stdio.h', '>', 'int', 'main', '(', ')', '{', 'printf', '(', '``', 'Hello', 'world', '!', '``', ')', ';', 'return', '0', ';', '}']\n"
     ]
    }
   ],
   "source": [
    "tokens = word_tokenize(archive)\n",
    "print(tokens)"
   ]
  }
 ],
 "metadata": {
  "interpreter": {
   "hash": "a664ddb530cc068fa410724cd14cd19fcbd1cd7c18d1881ba724c80a45b9ddd0"
  },
  "kernelspec": {
   "display_name": "Python 3.10.2 64-bit",
   "language": "python",
   "name": "python3"
  },
  "language_info": {
   "codemirror_mode": {
    "name": "ipython",
    "version": 3
   },
   "file_extension": ".py",
   "mimetype": "text/x-python",
   "name": "python",
   "nbconvert_exporter": "python",
   "pygments_lexer": "ipython3",
   "version": "3.10.2"
  },
  "orig_nbformat": 4
 },
 "nbformat": 4,
 "nbformat_minor": 2
}
